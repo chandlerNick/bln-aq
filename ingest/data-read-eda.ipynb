{
 "cells": [
  {
   "cell_type": "markdown",
   "id": "9840b1e0",
   "metadata": {},
   "source": [
    "ydata-profiling"
   ]
  },
  {
   "cell_type": "markdown",
   "id": "ac5c8d8c",
   "metadata": {},
   "source": [
    "Basic analysis"
   ]
  },
  {
   "cell_type": "code",
   "execution_count": 2,
   "id": "d5499138",
   "metadata": {},
   "outputs": [],
   "source": [
    "# Combine data\n",
    "import polars as pl\n",
    "import glob\n",
    "\n",
    "csv_files = glob.glob(\"./data/berlin-data/*.csv\")\n",
    "\n",
    "df = pl.concat(\n",
    "    [pl.scan_csv(f) for f in csv_files]\n",
    ").collect()\n",
    "\n",
    "df.write_csv(\"data/2024-citsci-pollutants.csv\")"
   ]
  },
  {
   "cell_type": "code",
   "execution_count": 3,
   "id": "4301892c",
   "metadata": {},
   "outputs": [
    {
     "data": {
      "text/html": [
       "<div><style>\n",
       ".dataframe > thead > tr,\n",
       ".dataframe > tbody > tr {\n",
       "  text-align: right;\n",
       "  white-space: pre-wrap;\n",
       "}\n",
       "</style>\n",
       "<small>shape: (9, 7)</small><table border=\"1\" class=\"dataframe\"><thead><tr><th>statistic</th><th>timestamp</th><th>P1</th><th>P2</th><th>lat</th><th>lon</th><th>sensor_id</th></tr><tr><td>str</td><td>str</td><td>f64</td><td>f64</td><td>f64</td><td>f64</td><td>f64</td></tr></thead><tbody><tr><td>&quot;count&quot;</td><td>&quot;36769510&quot;</td><td>3.6769333e7</td><td>3.6769282e7</td><td>3.676951e7</td><td>3.676951e7</td><td>3.676951e7</td></tr><tr><td>&quot;null_count&quot;</td><td>&quot;0&quot;</td><td>177.0</td><td>228.0</td><td>0.0</td><td>0.0</td><td>0.0</td></tr><tr><td>&quot;mean&quot;</td><td>null</td><td>19.965846</td><td>10.33892</td><td>52.492771</td><td>13.38711</td><td>35236.972404</td></tr><tr><td>&quot;std&quot;</td><td>null</td><td>74.485859</td><td>42.456588</td><td>0.142843</td><td>0.185441</td><td>28286.610579</td></tr><tr><td>&quot;min&quot;</td><td>&quot;2024-01-01T00:00:00&quot;</td><td>0.0</td><td>0.0</td><td>48.758</td><td>9.158</td><td>828.0</td></tr><tr><td>&quot;25%&quot;</td><td>null</td><td>3.4</td><td>1.7</td><td>52.456</td><td>13.328</td><td>13197.0</td></tr><tr><td>&quot;50%&quot;</td><td>null</td><td>7.05</td><td>3.6</td><td>52.508</td><td>13.402</td><td>26365.0</td></tr><tr><td>&quot;75%&quot;</td><td>null</td><td>14.87</td><td>8.0</td><td>52.537785</td><td>13.45</td><td>60516.0</td></tr><tr><td>&quot;max&quot;</td><td>&quot;2024-12-31T20:38:45&quot;</td><td>4369.1</td><td>2722.4</td><td>52.672</td><td>13.73</td><td>90248.0</td></tr></tbody></table></div>"
      ],
      "text/plain": [
       "shape: (9, 7)\n",
       "┌────────────┬────────────────┬─────────────┬─────────────┬────────────┬────────────┬──────────────┐\n",
       "│ statistic  ┆ timestamp      ┆ P1          ┆ P2          ┆ lat        ┆ lon        ┆ sensor_id    │\n",
       "│ ---        ┆ ---            ┆ ---         ┆ ---         ┆ ---        ┆ ---        ┆ ---          │\n",
       "│ str        ┆ str            ┆ f64         ┆ f64         ┆ f64        ┆ f64        ┆ f64          │\n",
       "╞════════════╪════════════════╪═════════════╪═════════════╪════════════╪════════════╪══════════════╡\n",
       "│ count      ┆ 36769510       ┆ 3.6769333e7 ┆ 3.6769282e7 ┆ 3.676951e7 ┆ 3.676951e7 ┆ 3.676951e7   │\n",
       "│ null_count ┆ 0              ┆ 177.0       ┆ 228.0       ┆ 0.0        ┆ 0.0        ┆ 0.0          │\n",
       "│ mean       ┆ null           ┆ 19.965846   ┆ 10.33892    ┆ 52.492771  ┆ 13.38711   ┆ 35236.972404 │\n",
       "│ std        ┆ null           ┆ 74.485859   ┆ 42.456588   ┆ 0.142843   ┆ 0.185441   ┆ 28286.610579 │\n",
       "│ min        ┆ 2024-01-01T00: ┆ 0.0         ┆ 0.0         ┆ 48.758     ┆ 9.158      ┆ 828.0        │\n",
       "│            ┆ 00:00          ┆             ┆             ┆            ┆            ┆              │\n",
       "│ 25%        ┆ null           ┆ 3.4         ┆ 1.7         ┆ 52.456     ┆ 13.328     ┆ 13197.0      │\n",
       "│ 50%        ┆ null           ┆ 7.05        ┆ 3.6         ┆ 52.508     ┆ 13.402     ┆ 26365.0      │\n",
       "│ 75%        ┆ null           ┆ 14.87       ┆ 8.0         ┆ 52.537785  ┆ 13.45      ┆ 60516.0      │\n",
       "│ max        ┆ 2024-12-31T20: ┆ 4369.1      ┆ 2722.4      ┆ 52.672     ┆ 13.73      ┆ 90248.0      │\n",
       "│            ┆ 38:45          ┆             ┆             ┆            ┆            ┆              │\n",
       "└────────────┴────────────────┴─────────────┴─────────────┴────────────┴────────────┴──────────────┘"
      ]
     },
     "execution_count": 3,
     "metadata": {},
     "output_type": "execute_result"
    }
   ],
   "source": [
    "df.describe()"
   ]
  },
  {
   "cell_type": "code",
   "execution_count": 4,
   "id": "b31d9b21",
   "metadata": {},
   "outputs": [],
   "source": [
    "df_proper_dt = df.with_columns(pl.col(\"timestamp\").str.strptime(pl.Datetime))"
   ]
  }
 ],
 "metadata": {
  "kernelspec": {
   "display_name": "general",
   "language": "python",
   "name": "python3"
  },
  "language_info": {
   "codemirror_mode": {
    "name": "ipython",
    "version": 3
   },
   "file_extension": ".py",
   "mimetype": "text/x-python",
   "name": "python",
   "nbconvert_exporter": "python",
   "pygments_lexer": "ipython3",
   "version": "3.10.16"
  }
 },
 "nbformat": 4,
 "nbformat_minor": 5
}
