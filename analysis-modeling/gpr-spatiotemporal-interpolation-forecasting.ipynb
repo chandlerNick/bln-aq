{
 "cells": [
  {
   "cell_type": "markdown",
   "id": "078e6a86",
   "metadata": {},
   "source": [
    "## Spatiotemporal Forecasting + Interpolation w/ GPR\n",
    "\n",
    "Take everything seen so far, and predict P1 and P2 on a regular grid over Berlin at a future timestamp using a spatiotemporal Gaussian Process."
   ]
  },
  {
   "cell_type": "code",
   "execution_count": 1,
   "id": "174c8d94",
   "metadata": {},
   "outputs": [],
   "source": [
    "import pandas as pd\n",
    "import numpy as np\n",
    "from sklearn.gaussian_process import GaussianProcessRegressor\n",
    "from sklearn.gaussian_process.kernels import RBF, ConstantKernel as C\n",
    "\n",
    "BBOX = {\n",
    "    \"lat_min\": 52.3383,\n",
    "    \"lat_max\": 52.6755,\n",
    "    \"lon_min\": 13.0884,\n",
    "    \"lon_max\": 13.7612,\n",
    "}"
   ]
  },
  {
   "cell_type": "code",
   "execution_count": 2,
   "id": "349cac16",
   "metadata": {},
   "outputs": [
    {
     "data": {
      "text/html": [
       "<div>\n",
       "<style scoped>\n",
       "    .dataframe tbody tr th:only-of-type {\n",
       "        vertical-align: middle;\n",
       "    }\n",
       "\n",
       "    .dataframe tbody tr th {\n",
       "        vertical-align: top;\n",
       "    }\n",
       "\n",
       "    .dataframe thead th {\n",
       "        text-align: right;\n",
       "    }\n",
       "</style>\n",
       "<table border=\"1\" class=\"dataframe\">\n",
       "  <thead>\n",
       "    <tr style=\"text-align: right;\">\n",
       "      <th></th>\n",
       "      <th>PM2_5</th>\n",
       "      <th>lat</th>\n",
       "      <th>lon</th>\n",
       "      <th>timestamp_hour</th>\n",
       "    </tr>\n",
       "  </thead>\n",
       "  <tbody>\n",
       "    <tr>\n",
       "      <th>0</th>\n",
       "      <td>10.93</td>\n",
       "      <td>52.508</td>\n",
       "      <td>13.422</td>\n",
       "      <td>2024-03-28</td>\n",
       "    </tr>\n",
       "    <tr>\n",
       "      <th>1</th>\n",
       "      <td>12.10</td>\n",
       "      <td>52.508</td>\n",
       "      <td>13.422</td>\n",
       "      <td>2024-03-28</td>\n",
       "    </tr>\n",
       "    <tr>\n",
       "      <th>2</th>\n",
       "      <td>12.10</td>\n",
       "      <td>52.508</td>\n",
       "      <td>13.422</td>\n",
       "      <td>2024-03-28</td>\n",
       "    </tr>\n",
       "    <tr>\n",
       "      <th>3</th>\n",
       "      <td>11.63</td>\n",
       "      <td>52.508</td>\n",
       "      <td>13.422</td>\n",
       "      <td>2024-03-28</td>\n",
       "    </tr>\n",
       "    <tr>\n",
       "      <th>4</th>\n",
       "      <td>11.70</td>\n",
       "      <td>52.508</td>\n",
       "      <td>13.422</td>\n",
       "      <td>2024-03-28</td>\n",
       "    </tr>\n",
       "  </tbody>\n",
       "</table>\n",
       "</div>"
      ],
      "text/plain": [
       "   PM2_5     lat     lon timestamp_hour\n",
       "0  10.93  52.508  13.422     2024-03-28\n",
       "1  12.10  52.508  13.422     2024-03-28\n",
       "2  12.10  52.508  13.422     2024-03-28\n",
       "3  11.63  52.508  13.422     2024-03-28\n",
       "4  11.70  52.508  13.422     2024-03-28"
      ]
     },
     "execution_count": 2,
     "metadata": {},
     "output_type": "execute_result"
    }
   ],
   "source": [
    "# Read Parquet\n",
    "df = pd.read_parquet(\"../data/2024-citsci-pollutants-hourly.parquet\")\n",
    "\n",
    "df.head()"
   ]
  },
  {
   "cell_type": "code",
   "execution_count": 9,
   "id": "68f5cbf0",
   "metadata": {},
   "outputs": [],
   "source": [
    "# Ensure datetime\n",
    "df['timestamp_hour'] = pd.to_datetime(df['timestamp_hour'])\n",
    "\n",
    "# Aggregate PM2_5 by sensor/location + hour\n",
    "df = df.groupby(['lat', 'lon', 'timestamp_hour'], as_index=False)['PM2_5'].mean()\n",
    "\n",
    "# Convert to minutes since start\n",
    "start_time = df['timestamp_hour'].min()\n",
    "df['minutes_since_start'] = (df['timestamp_hour'] - start_time).dt.total_seconds() / 60"
   ]
  },
  {
   "cell_type": "code",
   "execution_count": 10,
   "id": "3c803386",
   "metadata": {},
   "outputs": [],
   "source": [
    "# Features: lat, lon, time\n",
    "X = df[['lat', 'lon', 'minutes_since_start']].values\n",
    "\n",
    "# Target\n",
    "y = df['PM2_5'].values"
   ]
  },
  {
   "cell_type": "code",
   "execution_count": 13,
   "id": "a4088314",
   "metadata": {},
   "outputs": [
    {
     "data": {
      "text/plain": [
       "((1489017, 3), (1489017,))"
      ]
     },
     "execution_count": 13,
     "metadata": {},
     "output_type": "execute_result"
    }
   ],
   "source": [
    "X.shape, y.shape"
   ]
  },
  {
   "cell_type": "code",
   "execution_count": null,
   "id": "ff2aadf2",
   "metadata": {},
   "outputs": [],
   "source": [
    "# Gaussian process -- USE GPU!"
   ]
  }
 ],
 "metadata": {
  "kernelspec": {
   "display_name": "ut",
   "language": "python",
   "name": "python3"
  },
  "language_info": {
   "codemirror_mode": {
    "name": "ipython",
    "version": 3
   },
   "file_extension": ".py",
   "mimetype": "text/x-python",
   "name": "python",
   "nbconvert_exporter": "python",
   "pygments_lexer": "ipython3",
   "version": "3.10.19"
  }
 },
 "nbformat": 4,
 "nbformat_minor": 5
}
