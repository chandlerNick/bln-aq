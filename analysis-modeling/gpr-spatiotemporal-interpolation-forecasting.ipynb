{
 "cells": [
  {
   "cell_type": "markdown",
   "id": "078e6a86",
   "metadata": {},
   "source": [
    "## Spatiotemporal Forecasting + Interpolation w/ GPR\n",
    "\n",
    "Take everything seen so far, and predict P1 and P2 on a regular grid over Berlin at a future timestamp using a spatiotemporal Gaussian Process."
   ]
  },
  {
   "cell_type": "code",
   "execution_count": 1,
   "id": "174c8d94",
   "metadata": {},
   "outputs": [],
   "source": [
    "import pandas as pd\n",
    "import numpy as np\n",
    "from sklearn.gaussian_process import GaussianProcessRegressor\n",
    "from sklearn.gaussian_process.kernels import RBF, ConstantKernel as C\n",
    "\n",
    "BBOX = {\n",
    "    \"lat_min\": 52.3383,\n",
    "    \"lat_max\": 52.6755,\n",
    "    \"lon_min\": 13.0884,\n",
    "    \"lon_max\": 13.7612,\n",
    "}"
   ]
  },
  {
   "cell_type": "code",
   "execution_count": null,
   "id": "349cac16",
   "metadata": {},
   "outputs": [
    {
     "ename": "",
     "evalue": "",
     "output_type": "error",
     "traceback": [
      "\u001b[1;31mThe Kernel crashed while executing code in the current cell or a previous cell. \n",
      "\u001b[1;31mPlease review the code in the cell(s) to identify a possible cause of the failure. \n",
      "\u001b[1;31mClick <a href='https://aka.ms/vscodeJupyterKernelCrash'>here</a> for more info. \n",
      "\u001b[1;31mView Jupyter <a href='command:jupyter.viewOutput'>log</a> for further details."
     ]
    }
   ],
   "source": [
    "# Read Parquet\n",
    "df = pd.read_parquet(\"../data/2024-citsci-pollutants-hourly.parquet\")\n",
    "\n",
    "df.head()"
   ]
  },
  {
   "cell_type": "code",
   "execution_count": null,
   "id": "7ee5375a",
   "metadata": {},
   "outputs": [],
   "source": [
    "\n",
    "\n",
    "# Parse timestamp and round to nearest minute\n",
    "df[\"timestamp\"] = pd.to_datetime(df[\"timestamp\"])\n",
    "\n",
    "# Round timestamp to nearest hour\n",
    "df[\"timestamp_hour\"] = df[\"timestamp\"].dt.round(\"1h\")\n",
    "\n",
    "# Filter to Berlin bounding box\n",
    "BBOX = {\"lat_min\": 52.3, \"lat_max\": 52.7, \"lon_min\": 13.0, \"lon_max\": 13.7}\n",
    "\n",
    "df = df[\n",
    "    (df[\"lat\"].between(BBOX[\"lat_min\"], BBOX[\"lat_max\"])) &\n",
    "    (df[\"lon\"].between(BBOX[\"lon_min\"], BBOX[\"lon_max\"]))\n",
    "].copy()"
   ]
  },
  {
   "cell_type": "code",
   "execution_count": null,
   "id": "03f2f485",
   "metadata": {},
   "outputs": [
    {
     "data": {
      "text/html": [
       "<div><style>\n",
       ".dataframe > thead > tr,\n",
       ".dataframe > tbody > tr {\n",
       "  text-align: right;\n",
       "  white-space: pre-wrap;\n",
       "}\n",
       "</style>\n",
       "<small>shape: (5, 6)</small><table border=\"1\" class=\"dataframe\"><thead><tr><th>timestamp</th><th>P1</th><th>P2</th><th>lat</th><th>lon</th><th>sensor_id</th></tr><tr><td>datetime[μs]</td><td>f64</td><td>f64</td><td>f64</td><td>f64</td><td>i64</td></tr></thead><tbody><tr><td>2024-03-28 00:01:00</td><td>14.9</td><td>10.93</td><td>52.508</td><td>13.422</td><td>9392</td></tr><tr><td>2024-03-28 00:04:00</td><td>16.17</td><td>12.1</td><td>52.508</td><td>13.422</td><td>9392</td></tr><tr><td>2024-03-28 00:07:00</td><td>13.1</td><td>12.1</td><td>52.508</td><td>13.422</td><td>9392</td></tr><tr><td>2024-03-28 00:10:00</td><td>12.8</td><td>11.63</td><td>52.508</td><td>13.422</td><td>9392</td></tr><tr><td>2024-03-28 00:13:00</td><td>12.57</td><td>11.7</td><td>52.508</td><td>13.422</td><td>9392</td></tr></tbody></table></div>"
      ],
      "text/plain": [
       "shape: (5, 6)\n",
       "┌─────────────────────┬───────┬───────┬────────┬────────┬───────────┐\n",
       "│ timestamp           ┆ P1    ┆ P2    ┆ lat    ┆ lon    ┆ sensor_id │\n",
       "│ ---                 ┆ ---   ┆ ---   ┆ ---    ┆ ---    ┆ ---       │\n",
       "│ datetime[μs]        ┆ f64   ┆ f64   ┆ f64    ┆ f64    ┆ i64       │\n",
       "╞═════════════════════╪═══════╪═══════╪════════╪════════╪═══════════╡\n",
       "│ 2024-03-28 00:01:00 ┆ 14.9  ┆ 10.93 ┆ 52.508 ┆ 13.422 ┆ 9392      │\n",
       "│ 2024-03-28 00:04:00 ┆ 16.17 ┆ 12.1  ┆ 52.508 ┆ 13.422 ┆ 9392      │\n",
       "│ 2024-03-28 00:07:00 ┆ 13.1  ┆ 12.1  ┆ 52.508 ┆ 13.422 ┆ 9392      │\n",
       "│ 2024-03-28 00:10:00 ┆ 12.8  ┆ 11.63 ┆ 52.508 ┆ 13.422 ┆ 9392      │\n",
       "│ 2024-03-28 00:13:00 ┆ 12.57 ┆ 11.7  ┆ 52.508 ┆ 13.422 ┆ 9392      │\n",
       "└─────────────────────┴───────┴───────┴────────┴────────┴───────────┘"
      ]
     },
     "execution_count": 3,
     "metadata": {},
     "output_type": "execute_result"
    }
   ],
   "source": [
    "df.head()"
   ]
  },
  {
   "cell_type": "code",
   "execution_count": null,
   "id": "68f5cbf0",
   "metadata": {},
   "outputs": [
    {
     "ename": "",
     "evalue": "",
     "output_type": "error",
     "traceback": [
      "\u001b[1;31mThe Kernel crashed while executing code in the current cell or a previous cell. \n",
      "\u001b[1;31mPlease review the code in the cell(s) to identify a possible cause of the failure. \n",
      "\u001b[1;31mClick <a href='https://aka.ms/vscodeJupyterKernelCrash'>here</a> for more info. \n",
      "\u001b[1;31mView Jupyter <a href='command:jupyter.viewOutput'>log</a> for further details."
     ]
    }
   ],
   "source": [
    "\n",
    "\n",
    "# Aggregate by sensor + hour\n",
    "df_hourly = df.groupby([\"sensor_id\", \"timestamp_hour\"]).agg({\n",
    "    \"P1\": \"mean\",\n",
    "    \"P2\": \"mean\",\n",
    "    \"lat\": \"first\",\n",
    "    \"lon\": \"first\"\n",
    "}).reset_index()\n",
    "\n",
    "# Start timestamp\n",
    "start_time = df_hourly[\"timestamp_hour\"].min()\n",
    "\n",
    "# Minutes since start\n",
    "df_hourly[\"minutes_since_start\"] = (df_hourly[\"timestamp_hour\"] - start_time).dt.total_seconds() / 60"
   ]
  },
  {
   "cell_type": "code",
   "execution_count": null,
   "id": "3c803386",
   "metadata": {},
   "outputs": [],
   "source": [
    "# Features: lat, lon, time\n",
    "X = df_hourly[[\"lat\", \"lon\", \"minutes_since_start\"]].values\n",
    "\n",
    "# Targets\n",
    "y1 = df_hourly[\"P1\"].values\n",
    "y2 = df_hourly[\"P2\"].values\n",
    "\n",
    "print(X.shape, y1.shape, y2.shape)\n",
    "df_hourly.head()"
   ]
  }
 ],
 "metadata": {
  "kernelspec": {
   "display_name": "ut",
   "language": "python",
   "name": "python3"
  },
  "language_info": {
   "codemirror_mode": {
    "name": "ipython",
    "version": 3
   },
   "file_extension": ".py",
   "mimetype": "text/x-python",
   "name": "python",
   "nbconvert_exporter": "python",
   "pygments_lexer": "ipython3",
   "version": "3.10.19"
  }
 },
 "nbformat": 4,
 "nbformat_minor": 5
}
