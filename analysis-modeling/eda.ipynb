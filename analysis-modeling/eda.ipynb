{
 "cells": [
  {
   "cell_type": "markdown",
   "id": "7f594506",
   "metadata": {},
   "source": [
    "Basic maps/analysis"
   ]
  },
  {
   "cell_type": "code",
   "execution_count": null,
   "id": "19c655fe",
   "metadata": {},
   "outputs": [],
   "source": [
    "import pandas as pd\n",
    "import matplotlib.pyplot as plt\n",
    "import polars as pl\n",
    "from ipywidgets import interact, IntSlider\n",
    "import datetime as dt\n",
    "from mpl_toolkits.mplot3d import Axes3D  # activates 3D projection\n",
    "import folium\n",
    "\n",
    "BBOX = {\n",
    "    \"lat_min\": 52.3383,\n",
    "    \"lat_max\": 52.6755,\n",
    "    \"lon_min\": 13.0884,\n",
    "    \"lon_max\": 13.7612,\n",
    "}"
   ]
  },
  {
   "cell_type": "code",
   "execution_count": null,
   "id": "69abcf9c",
   "metadata": {},
   "outputs": [],
   "source": [
    "df = pl.read_parquet(\"../data/2024-citsci-pollutants.parquet\")"
   ]
  },
  {
   "cell_type": "code",
   "execution_count": null,
   "id": "7215b272",
   "metadata": {},
   "outputs": [
    {
     "data": {
      "text/html": [
       "<div><style>\n",
       ".dataframe > thead > tr,\n",
       ".dataframe > tbody > tr {\n",
       "  text-align: right;\n",
       "  white-space: pre-wrap;\n",
       "}\n",
       "</style>\n",
       "<small>shape: (5, 6)</small><table border=\"1\" class=\"dataframe\"><thead><tr><th>timestamp</th><th>P1</th><th>P2</th><th>lat</th><th>lon</th><th>sensor_id</th></tr><tr><td>str</td><td>f64</td><td>f64</td><td>f64</td><td>f64</td><td>i64</td></tr></thead><tbody><tr><td>&quot;2024-03-28T00:00:40&quot;</td><td>14.9</td><td>10.93</td><td>52.508</td><td>13.422</td><td>9392</td></tr><tr><td>&quot;2024-03-28T00:03:41&quot;</td><td>16.17</td><td>12.1</td><td>52.508</td><td>13.422</td><td>9392</td></tr><tr><td>&quot;2024-03-28T00:06:43&quot;</td><td>13.1</td><td>12.1</td><td>52.508</td><td>13.422</td><td>9392</td></tr><tr><td>&quot;2024-03-28T00:09:45&quot;</td><td>12.8</td><td>11.63</td><td>52.508</td><td>13.422</td><td>9392</td></tr><tr><td>&quot;2024-03-28T00:12:46&quot;</td><td>12.57</td><td>11.7</td><td>52.508</td><td>13.422</td><td>9392</td></tr></tbody></table></div>"
      ],
      "text/plain": [
       "shape: (5, 6)\n",
       "┌─────────────────────┬───────┬───────┬────────┬────────┬───────────┐\n",
       "│ timestamp           ┆ P1    ┆ P2    ┆ lat    ┆ lon    ┆ sensor_id │\n",
       "│ ---                 ┆ ---   ┆ ---   ┆ ---    ┆ ---    ┆ ---       │\n",
       "│ str                 ┆ f64   ┆ f64   ┆ f64    ┆ f64    ┆ i64       │\n",
       "╞═════════════════════╪═══════╪═══════╪════════╪════════╪═══════════╡\n",
       "│ 2024-03-28T00:00:40 ┆ 14.9  ┆ 10.93 ┆ 52.508 ┆ 13.422 ┆ 9392      │\n",
       "│ 2024-03-28T00:03:41 ┆ 16.17 ┆ 12.1  ┆ 52.508 ┆ 13.422 ┆ 9392      │\n",
       "│ 2024-03-28T00:06:43 ┆ 13.1  ┆ 12.1  ┆ 52.508 ┆ 13.422 ┆ 9392      │\n",
       "│ 2024-03-28T00:09:45 ┆ 12.8  ┆ 11.63 ┆ 52.508 ┆ 13.422 ┆ 9392      │\n",
       "│ 2024-03-28T00:12:46 ┆ 12.57 ┆ 11.7  ┆ 52.508 ┆ 13.422 ┆ 9392      │\n",
       "└─────────────────────┴───────┴───────┴────────┴────────┴───────────┘"
      ]
     },
     "execution_count": 3,
     "metadata": {},
     "output_type": "execute_result"
    }
   ],
   "source": [
    "df.head()"
   ]
  },
  {
   "cell_type": "code",
   "execution_count": null,
   "id": "282ae6e2",
   "metadata": {},
   "outputs": [],
   "source": [
    "# Ensure timestamp is parsed as datetime\n",
    "df = df.with_columns(pl.col(\"timestamp\").str.strptime(pl.Datetime))\n",
    "\n",
    "df = df.with_columns(\n",
    "    pl.col(\"timestamp\").dt.round(\"1m\")\n",
    ")\n",
    "\n",
    "# Ensure all sensors are in berlin\n",
    "df = df.filter(\n",
    "    (pl.col(\"lat\").is_between(BBOX[\"lat_min\"], BBOX[\"lat_max\"])) &\n",
    "    (pl.col(\"lon\").is_between(BBOX[\"lon_min\"], BBOX[\"lon_max\"]))\n",
    ")\n"
   ]
  },
  {
   "cell_type": "code",
   "execution_count": null,
   "id": "94fe9041",
   "metadata": {},
   "outputs": [
    {
     "data": {
      "text/html": [
       "<div><style>\n",
       ".dataframe > thead > tr,\n",
       ".dataframe > tbody > tr {\n",
       "  text-align: right;\n",
       "  white-space: pre-wrap;\n",
       "}\n",
       "</style>\n",
       "<small>shape: (5, 6)</small><table border=\"1\" class=\"dataframe\"><thead><tr><th>timestamp</th><th>P1</th><th>P2</th><th>lat</th><th>lon</th><th>sensor_id</th></tr><tr><td>datetime[μs]</td><td>f64</td><td>f64</td><td>f64</td><td>f64</td><td>i64</td></tr></thead><tbody><tr><td>2024-03-28 00:01:00</td><td>14.9</td><td>10.93</td><td>52.508</td><td>13.422</td><td>9392</td></tr><tr><td>2024-03-28 00:04:00</td><td>16.17</td><td>12.1</td><td>52.508</td><td>13.422</td><td>9392</td></tr><tr><td>2024-03-28 00:07:00</td><td>13.1</td><td>12.1</td><td>52.508</td><td>13.422</td><td>9392</td></tr><tr><td>2024-03-28 00:10:00</td><td>12.8</td><td>11.63</td><td>52.508</td><td>13.422</td><td>9392</td></tr><tr><td>2024-03-28 00:13:00</td><td>12.57</td><td>11.7</td><td>52.508</td><td>13.422</td><td>9392</td></tr></tbody></table></div>"
      ],
      "text/plain": [
       "shape: (5, 6)\n",
       "┌─────────────────────┬───────┬───────┬────────┬────────┬───────────┐\n",
       "│ timestamp           ┆ P1    ┆ P2    ┆ lat    ┆ lon    ┆ sensor_id │\n",
       "│ ---                 ┆ ---   ┆ ---   ┆ ---    ┆ ---    ┆ ---       │\n",
       "│ datetime[μs]        ┆ f64   ┆ f64   ┆ f64    ┆ f64    ┆ i64       │\n",
       "╞═════════════════════╪═══════╪═══════╪════════╪════════╪═══════════╡\n",
       "│ 2024-03-28 00:01:00 ┆ 14.9  ┆ 10.93 ┆ 52.508 ┆ 13.422 ┆ 9392      │\n",
       "│ 2024-03-28 00:04:00 ┆ 16.17 ┆ 12.1  ┆ 52.508 ┆ 13.422 ┆ 9392      │\n",
       "│ 2024-03-28 00:07:00 ┆ 13.1  ┆ 12.1  ┆ 52.508 ┆ 13.422 ┆ 9392      │\n",
       "│ 2024-03-28 00:10:00 ┆ 12.8  ┆ 11.63 ┆ 52.508 ┆ 13.422 ┆ 9392      │\n",
       "│ 2024-03-28 00:13:00 ┆ 12.57 ┆ 11.7  ┆ 52.508 ┆ 13.422 ┆ 9392      │\n",
       "└─────────────────────┴───────┴───────┴────────┴────────┴───────────┘"
      ]
     },
     "execution_count": 5,
     "metadata": {},
     "output_type": "execute_result"
    }
   ],
   "source": [
    "df.head()"
   ]
  },
  {
   "cell_type": "code",
   "execution_count": null,
   "id": "ddaf829c",
   "metadata": {},
   "outputs": [
    {
     "data": {
      "image/png": "[encoded data removed]",
      "text/plain": [
       "<Figure size 800x800 with 1 Axes>"
      ]
     },
     "metadata": {},
     "output_type": "display_data"
    }
   ],
   "source": [
    "# Filter to that timestamp - may need to quantize times....\n",
    "ts_dt = pl.datetime(2024, 1, 1, 0, 0, 0)\n",
    "ts = str(ts_dt)\n",
    "snapshot = df.filter(pl.col(\"timestamp\") == ts_dt)\n",
    "\n",
    "plt.figure(figsize=(8, 8))\n",
    "plt.scatter(snapshot[\"lon\"], snapshot[\"lat\"], c=\"dodgerblue\", s=10, alpha=0.7)\n",
    "plt.title(f\"Sensor Locations at {ts}\")\n",
    "plt.xlabel(\"Longitude\")\n",
    "plt.ylabel(\"Latitude\")\n",
    "plt.grid(True)\n",
    "plt.show()"
   ]
  },
  {
   "cell_type": "code",
   "execution_count": null,
   "id": "5eb533c0",
   "metadata": {},
   "outputs": [
    {
     "data": {
      "application/vnd.jupyter.widget-view+json": {
       "model_id": "2248d137b3b841f6ac0cfca5ba1d79ac",
       "version_major": 2,
       "version_minor": 0
      },
      "text/plain": [
       "interactive(children=(IntSlider(value=0, description='i', max=8744), Output()), _dom_classes=('widget-interact…"
      ]
     },
     "metadata": {},
     "output_type": "display_data"
    },
    {
     "data": {
      "text/plain": [
       "<function __main__.plot_snapshot(i)>"
      ]
     },
     "execution_count": 7,
     "metadata": {},
     "output_type": "execute_result"
    }
   ],
   "source": [
    "# Get timestamps that fall exactly on the hour (minute == 0)\n",
    "timestamps = (\n",
    "    df.filter(pl.col(\"timestamp\").dt.minute() == 0)\n",
    "      .select(\"timestamp\")\n",
    "      .unique()\n",
    "      .sort(\"timestamp\")[\"timestamp\"]\n",
    "      .to_list()\n",
    ")\n",
    "\n",
    "xlim = (BBOX[\"lon_min\"], BBOX[\"lon_max\"])\n",
    "ylim = (BBOX[\"lat_min\"], BBOX[\"lat_max\"])\n",
    "\n",
    "def plot_snapshot(i):\n",
    "    \"\"\"Plot snapshot for timestamp index i\"\"\"\n",
    "    ts = timestamps[i]\n",
    "    snapshot = df.filter(pl.col(\"timestamp\") == ts)\n",
    "    \n",
    "    plt.figure(figsize=(8, 8))\n",
    "    plt.scatter(snapshot[\"lon\"], snapshot[\"lat\"], c=\"dodgerblue\", s=10, alpha=0.7)\n",
    "    plt.title(f\"Sensor Locations at {ts}\")\n",
    "    plt.xlabel(\"Longitude\")\n",
    "    plt.ylabel(\"Latitude\")\n",
    "    plt.grid(True)\n",
    "\n",
    "    # Fix x/y limits\n",
    "    plt.xlim(xlim)\n",
    "    plt.ylim(ylim)\n",
    "\n",
    "    plt.show()\n",
    "\n",
    "# Interactive slider: scroll through timestamps\n",
    "interact(plot_snapshot, i=IntSlider(min=0, max=len(timestamps)-1, step=1, value=0))"
   ]
  },
  {
   "cell_type": "code",
   "execution_count": null,
   "id": "d0a570b4",
   "metadata": {},
   "outputs": [
    {
     "data": {
      "application/vnd.jupyter.widget-view+json": {
       "model_id": "4cd2412f4cfe4d41ba5c12ea8dbd945a",
       "version_major": 2,
       "version_minor": 0
      },
      "text/plain": [
       "interactive(children=(IntSlider(value=0, continuous_update=False, description='i', max=8744), Output()), _dom_…"
      ]
     },
     "metadata": {},
     "output_type": "display_data"
    },
    {
     "data": {
      "text/plain": [
       "<function __main__.plot_snapshot(i)>"
      ]
     },
     "execution_count": 8,
     "metadata": {},
     "output_type": "execute_result"
    }
   ],
   "source": [
    "# Compute center of map for initial view\n",
    "center_lat = (BBOX[\"lat_min\"] + BBOX[\"lat_max\"]) / 2\n",
    "center_lon = (BBOX[\"lon_min\"] + BBOX[\"lon_max\"]) / 2\n",
    "\n",
    "# Function to create a folium map snapshot\n",
    "def plot_snapshot(i):\n",
    "    ts = timestamps[i]\n",
    "    snapshot = df.filter(pl.col(\"timestamp\") == ts)\n",
    "    \n",
    "    # Create folium map\n",
    "    m = folium.Map(location=[center_lat, center_lon], zoom_start=12)\n",
    "    \n",
    "    # Add each sensor point\n",
    "    for _, row in snapshot.to_pandas().iterrows():\n",
    "        folium.CircleMarker(\n",
    "            location=[row[\"lat\"], row[\"lon\"]],\n",
    "            radius=4,\n",
    "            color=\"dodgerblue\",\n",
    "            fill=True,\n",
    "            fill_opacity=0.7\n",
    "        ).add_to(m)\n",
    "    \n",
    "    # Add a title using a Marker (Folium does not natively support titles)\n",
    "    folium.Marker(\n",
    "        location=[center_lat, center_lon],\n",
    "        icon=folium.DivIcon(html=f\"<div style='font-size:16pt'>Sensors at {ts.strftime('%Y-%m-%d %H:%M')}</div>\")\n",
    "    ).add_to(m)\n",
    "    \n",
    "    display(m)\n",
    "\n",
    "# Interactive slider to scroll through hourly timestamps\n",
    "interact(\n",
    "    plot_snapshot,\n",
    "    i=IntSlider(min=0, max=len(timestamps)-1, step=1, value=0, continuous_update=False)\n",
    ")"
   ]
  }
 ],
 "metadata": {
  "kernelspec": {
   "display_name": "bln-aq",
   "language": "python",
   "name": "python3"
  },
  "language_info": {
   "codemirror_mode": {
    "name": "ipython",
    "version": 3
   },
   "file_extension": ".py",
   "mimetype": "text/x-python",
   "name": "python",
   "nbconvert_exporter": "python",
   "pygments_lexer": "ipython3",
   "version": "3.10.12"
  }
 },
 "nbformat": 4,
 "nbformat_minor": 5
}
